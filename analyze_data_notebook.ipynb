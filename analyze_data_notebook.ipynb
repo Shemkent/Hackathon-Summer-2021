{
 "cells": [
  {
   "cell_type": "markdown",
   "source": [
    "# 2021 Biomedical Data Science Hackathon\r\n",
    "### This notebook contains data preparation and prediction processes for our participation in a data science Hackathon\r\n",
    "\r\n",
    "The team is provided with 3 csv files containing training and testing datasets.\r\n",
    "\r\n",
    "\\#The dataset is a collection of \"unnormalized counts of genes from RNASeq performed on patients\"\r\n",
    "\r\n",
    "\\#A designed challenge is working with data from an unfamiliar context, and participants (w/ or w/o Biology background) are expected to have limited prior knowledge.  \r\n",
    "\r\n",
    "The goal is to predict the age of a patient from their gene profile."
   ],
   "metadata": {}
  },
  {
   "cell_type": "code",
   "execution_count": 1,
   "source": [
    "import numpy as np\r\n",
    "import pandas as pd\r\n",
    "from sklearn import preprocessing\r\n",
    "from sklearn.linear_model import LinearRegression\r\n",
    "from sklearn.metrics import r2_score\r\n",
    "from sklearn.model_selection import train_test_split\r\n",
    "from sklearn.feature_selection import SelectKBest, mutual_info_regression\r\n",
    "from sklearn.neural_network import MLPRegressor\r\n",
    "import matplotlib.pyplot as plt"
   ],
   "outputs": [],
   "metadata": {
    "pycharm": {
     "is_executing": true
    }
   }
  },
  {
   "cell_type": "code",
   "execution_count": 2,
   "source": [
    "##load train data\r\n",
    "df_expression = pd.read_csv(\r\n",
    "    './train_data/train_expression.csv.gz', compression='gzip')\r\n",
    "\r\n",
    "df_labels = pd.read_csv(\r\n",
    "    './train_data/train_labels.csv')"
   ],
   "outputs": [],
   "metadata": {}
  },
  {
   "cell_type": "code",
   "execution_count": 7,
   "source": [
    "#Load prediction data \r\n",
    "df_expression_test = pd.read_csv(\r\n",
    "    './test_data/test_expression.csv.gz', compression='gzip')\r\n",
    "\r\n",
    "df_labels_test = pd.read_csv(\r\n",
    "    './test_data/test_LABELS.csv')"
   ],
   "outputs": [],
   "metadata": {}
  },
  {
   "cell_type": "markdown",
   "source": [
    "## Preliminary Planning, Analysis, and Preprocessing\n"
   ],
   "metadata": {}
  },
  {
   "cell_type": "code",
   "execution_count": 5,
   "source": [
    "##normalize data (train)\r\n",
    "normalized_expression = preprocessing.normalize(df_expression)\r\n",
    "df_norm_expression = pd.DataFrame(normalized_expression, columns=df_expression.columns)"
   ],
   "outputs": [],
   "metadata": {
    "scrolled": true
   }
  },
  {
   "cell_type": "code",
   "execution_count": 8,
   "source": [
    "##normalize data (test)\r\n",
    "normalized_expression_test = preprocessing.normalize(df_expression_test)\r\n",
    "df_norm_expression_test = pd.DataFrame(normalized_expression_test, columns=df_expression.columns)"
   ],
   "outputs": [],
   "metadata": {}
  },
  {
   "cell_type": "code",
   "execution_count": 1,
   "source": [
    "##This cell of code pulls a small sample of the data for planning\r\n",
    "\r\n",
    "# ##pull 5 columns from expression\r\n",
    "# rand_five_feat_names = df_norm_expression.columns[:5]\r\n",
    "# rand_five_feats = df_norm_expression[rand_five_feat_names]\r\n",
    "\r\n",
    "# ##generate 30 row index for analysis\r\n",
    "# list_rand_rows_nums = rnd.choices(range(len(df_labels)), k=50)\r\n",
    "# len(list_rand_rows_nums)\r\n",
    "\r\n",
    "##select rows from labels (only age) & expression tables\r\n",
    "\r\n",
    "# df_feats_w_age = rand_five_feats.copy()\r\n",
    "# df_feats_w_age['age'] = df_labels['age']\r\n",
    "\r\n",
    "# df_feats_w_age_sample = df_feats_w_age.iloc[list_rand_rows_nums]\r\n",
    "# df_feats_w_age_sample.describe()\r\n",
    "\r\n",
    "# df_feats_w_age_sample.corr()"
   ],
   "outputs": [],
   "metadata": {
    "pycharm": {
     "name": "#%%\n"
    }
   }
  },
  {
   "cell_type": "code",
   "execution_count": 9,
   "source": [
    "df_feats_w_age_sample = df_norm_expression.copy()\r\n",
    "df_feats_w_age_sample['age'] = df_labels['age']"
   ],
   "outputs": [],
   "metadata": {
    "pycharm": {
     "name": "#%%\n"
    }
   }
  },
  {
   "cell_type": "code",
   "execution_count": 10,
   "source": [
    "##split data\r\n",
    "X = df_norm_expression\r\n",
    "y = df_labels['age']\r\n",
    "\r\n",
    "#skip to pickle read for selected 5k features\r\n"
   ],
   "outputs": [],
   "metadata": {}
  },
  {
   "cell_type": "code",
   "execution_count": 11,
   "source": [
    "##variance\r\n",
    "# df_feats_w_age_sample.var()\r\n",
    "std_calc = X.std()"
   ],
   "outputs": [],
   "metadata": {}
  },
  {
   "cell_type": "code",
   "execution_count": 86,
   "source": [
    "std_calc.describe()"
   ],
   "outputs": [
    {
     "output_type": "execute_result",
     "data": {
      "text/plain": [
       "count    5.293500e+04\n",
       "mean     4.062865e-04\n",
       "std      2.422413e-03\n",
       "min      1.134322e-08\n",
       "25%      5.184202e-07\n",
       "50%      5.502466e-06\n",
       "75%      1.420882e-04\n",
       "max      1.318569e-01\n",
       "dtype: float64"
      ]
     },
     "metadata": {},
     "execution_count": 86
    }
   ],
   "metadata": {}
  },
  {
   "cell_type": "code",
   "execution_count": 99,
   "source": [
    "bin_a=[0,0.000005,0.000010,0.000015,0.00002,0.000025, 0.000030,\r\n",
    "    0.000035, 0.000040, 0.000045,0.000050, 0.000055, 0.000060, 0.000065\r\n",
    "    ,0.000070  ]\r\n",
    "print(len(bin_a))\r\n",
    "plt.hist(std_calc,bins=bin_a)\r\n"
   ],
   "outputs": [
    {
     "output_type": "stream",
     "name": "stdout",
     "text": [
      "15\n"
     ]
    },
    {
     "output_type": "execute_result",
     "data": {
      "text/plain": [
       "(array([26003.,  3229.,  1822.,  1146.,   901.,   717.,   593.,   530.,\n",
       "          490.,   390.,   375.,   326.,   299.,   282.]),\n",
       " array([0.0e+00, 5.0e-06, 1.0e-05, 1.5e-05, 2.0e-05, 2.5e-05, 3.0e-05,\n",
       "        3.5e-05, 4.0e-05, 4.5e-05, 5.0e-05, 5.5e-05, 6.0e-05, 6.5e-05,\n",
       "        7.0e-05]),\n",
       " <BarContainer object of 14 artists>)"
      ]
     },
     "metadata": {},
     "execution_count": 99
    },
    {
     "output_type": "display_data",
     "data": {
      "text/plain": [
       "<Figure size 432x288 with 1 Axes>"
      ],
      "image/svg+xml": "<?xml version=\"1.0\" encoding=\"utf-8\" standalone=\"no\"?>\r\n<!DOCTYPE svg PUBLIC \"-//W3C//DTD SVG 1.1//EN\"\r\n  \"http://www.w3.org/Graphics/SVG/1.1/DTD/svg11.dtd\">\r\n<svg height=\"261.19625pt\" version=\"1.1\" viewBox=\"0 0 388.0125 261.19625\" width=\"388.0125pt\" xmlns=\"http://www.w3.org/2000/svg\" xmlns:xlink=\"http://www.w3.org/1999/xlink\">\r\n <metadata>\r\n  <rdf:RDF xmlns:cc=\"http://creativecommons.org/ns#\" xmlns:dc=\"http://purl.org/dc/elements/1.1/\" xmlns:rdf=\"http://www.w3.org/1999/02/22-rdf-syntax-ns#\">\r\n   <cc:Work>\r\n    <dc:type rdf:resource=\"http://purl.org/dc/dcmitype/StillImage\"/>\r\n    <dc:date>2021-09-04T20:59:04.273704</dc:date>\r\n    <dc:format>image/svg+xml</dc:format>\r\n    <dc:creator>\r\n     <cc:Agent>\r\n      <dc:title>Matplotlib v3.4.3, https://matplotlib.org/</dc:title>\r\n     </cc:Agent>\r\n    </dc:creator>\r\n   </cc:Work>\r\n  </rdf:RDF>\r\n </metadata>\r\n <defs>\r\n  <style type=\"text/css\">*{stroke-linecap:butt;stroke-linejoin:round;}</style>\r\n </defs>\r\n <g id=\"figure_1\">\r\n  <g id=\"patch_1\">\r\n   <path d=\"M 0 261.19625 \r\nL 388.0125 261.19625 \r\nL 388.0125 0 \r\nL 0 0 \r\nz\r\n\" style=\"fill:none;\"/>\r\n  </g>\r\n  <g id=\"axes_1\">\r\n   <g id=\"patch_2\">\r\n    <path d=\"M 46.0125 224.64 \r\nL 380.8125 224.64 \r\nL 380.8125 7.2 \r\nL 46.0125 7.2 \r\nz\r\n\" style=\"fill:#ffffff;\"/>\r\n   </g>\r\n   <g id=\"patch_3\">\r\n    <path clip-path=\"url(#pd9642b864e)\" d=\"M 61.230682 224.64 \r\nL 82.970942 224.64 \r\nL 82.970942 17.554286 \r\nL 61.230682 17.554286 \r\nz\r\n\" style=\"fill:#1f77b4;\"/>\r\n   </g>\r\n   <g id=\"patch_4\">\r\n    <path clip-path=\"url(#pd9642b864e)\" d=\"M 82.970942 224.64 \r\nL 104.711201 224.64 \r\nL 104.711201 198.924514 \r\nL 82.970942 198.924514 \r\nz\r\n\" style=\"fill:#1f77b4;\"/>\r\n   </g>\r\n   <g id=\"patch_5\">\r\n    <path clip-path=\"url(#pd9642b864e)\" d=\"M 104.711201 224.64 \r\nL 126.451461 224.64 \r\nL 126.451461 210.129745 \r\nL 104.711201 210.129745 \r\nz\r\n\" style=\"fill:#1f77b4;\"/>\r\n   </g>\r\n   <g id=\"patch_6\">\r\n    <path clip-path=\"url(#pd9642b864e)\" d=\"M 126.451461 224.64 \r\nL 148.191721 224.64 \r\nL 148.191721 215.513352 \r\nL 126.451461 215.513352 \r\nz\r\n\" style=\"fill:#1f77b4;\"/>\r\n   </g>\r\n   <g id=\"patch_7\">\r\n    <path clip-path=\"url(#pd9642b864e)\" d=\"M 148.191721 224.64 \r\nL 169.931981 224.64 \r\nL 169.931981 217.464511 \r\nL 148.191721 217.464511 \r\nz\r\n\" style=\"fill:#1f77b4;\"/>\r\n   </g>\r\n   <g id=\"patch_8\">\r\n    <path clip-path=\"url(#pd9642b864e)\" d=\"M 169.931981 224.64 \r\nL 191.67224 224.64 \r\nL 191.67224 218.929872 \r\nL 169.931981 218.929872 \r\nz\r\n\" style=\"fill:#1f77b4;\"/>\r\n   </g>\r\n   <g id=\"patch_9\">\r\n    <path clip-path=\"url(#pd9642b864e)\" d=\"M 191.67224 224.64 \r\nL 213.4125 224.64 \r\nL 213.4125 219.917398 \r\nL 191.67224 219.917398 \r\nz\r\n\" style=\"fill:#1f77b4;\"/>\r\n   </g>\r\n   <g id=\"patch_10\">\r\n    <path clip-path=\"url(#pd9642b864e)\" d=\"M 213.4125 224.64 \r\nL 235.15276 224.64 \r\nL 235.15276 220.419124 \r\nL 213.4125 220.419124 \r\nz\r\n\" style=\"fill:#1f77b4;\"/>\r\n   </g>\r\n   <g id=\"patch_11\">\r\n    <path clip-path=\"url(#pd9642b864e)\" d=\"M 235.15276 224.64 \r\nL 256.893019 224.64 \r\nL 256.893019 220.737681 \r\nL 235.15276 220.737681 \r\nz\r\n\" style=\"fill:#1f77b4;\"/>\r\n   </g>\r\n   <g id=\"patch_12\">\r\n    <path clip-path=\"url(#pd9642b864e)\" d=\"M 256.893019 224.64 \r\nL 278.633279 224.64 \r\nL 278.633279 221.534073 \r\nL 256.893019 221.534073 \r\nz\r\n\" style=\"fill:#1f77b4;\"/>\r\n   </g>\r\n   <g id=\"patch_13\">\r\n    <path clip-path=\"url(#pd9642b864e)\" d=\"M 278.633279 224.64 \r\nL 300.373539 224.64 \r\nL 300.373539 221.653531 \r\nL 278.633279 221.653531 \r\nz\r\n\" style=\"fill:#1f77b4;\"/>\r\n   </g>\r\n   <g id=\"patch_14\">\r\n    <path clip-path=\"url(#pd9642b864e)\" d=\"M 300.373539 224.64 \r\nL 322.113799 224.64 \r\nL 322.113799 222.043763 \r\nL 300.373539 222.043763 \r\nz\r\n\" style=\"fill:#1f77b4;\"/>\r\n   </g>\r\n   <g id=\"patch_15\">\r\n    <path clip-path=\"url(#pd9642b864e)\" d=\"M 322.113799 224.64 \r\nL 343.854058 224.64 \r\nL 343.854058 222.258789 \r\nL 322.113799 222.258789 \r\nz\r\n\" style=\"fill:#1f77b4;\"/>\r\n   </g>\r\n   <g id=\"patch_16\">\r\n    <path clip-path=\"url(#pd9642b864e)\" d=\"M 343.854058 224.64 \r\nL 365.594318 224.64 \r\nL 365.594318 222.394176 \r\nL 343.854058 222.394176 \r\nz\r\n\" style=\"fill:#1f77b4;\"/>\r\n   </g>\r\n   <g id=\"matplotlib.axis_1\">\r\n    <g id=\"xtick_1\">\r\n     <g id=\"line2d_1\">\r\n      <defs>\r\n       <path d=\"M 0 0 \r\nL 0 3.5 \r\n\" id=\"mf0c6d6ed71\" style=\"stroke:#000000;stroke-width:0.8;\"/>\r\n      </defs>\r\n      <g>\r\n       <use style=\"stroke:#000000;stroke-width:0.8;\" x=\"61.230682\" xlink:href=\"#mf0c6d6ed71\" y=\"224.64\"/>\r\n      </g>\r\n     </g>\r\n     <g id=\"text_1\">\r\n      <!-- 0 -->\r\n      <g transform=\"translate(58.049432 239.238438)scale(0.1 -0.1)\">\r\n       <defs>\r\n        <path d=\"M 2034 4250 \r\nQ 1547 4250 1301 3770 \r\nQ 1056 3291 1056 2328 \r\nQ 1056 1369 1301 889 \r\nQ 1547 409 2034 409 \r\nQ 2525 409 2770 889 \r\nQ 3016 1369 3016 2328 \r\nQ 3016 3291 2770 3770 \r\nQ 2525 4250 2034 4250 \r\nz\r\nM 2034 4750 \r\nQ 2819 4750 3233 4129 \r\nQ 3647 3509 3647 2328 \r\nQ 3647 1150 3233 529 \r\nQ 2819 -91 2034 -91 \r\nQ 1250 -91 836 529 \r\nQ 422 1150 422 2328 \r\nQ 422 3509 836 4129 \r\nQ 1250 4750 2034 4750 \r\nz\r\n\" id=\"DejaVuSans-30\" transform=\"scale(0.015625)\"/>\r\n       </defs>\r\n       <use xlink:href=\"#DejaVuSans-30\"/>\r\n      </g>\r\n     </g>\r\n    </g>\r\n    <g id=\"xtick_2\">\r\n     <g id=\"line2d_2\">\r\n      <g>\r\n       <use style=\"stroke:#000000;stroke-width:0.8;\" x=\"104.711201\" xlink:href=\"#mf0c6d6ed71\" y=\"224.64\"/>\r\n      </g>\r\n     </g>\r\n     <g id=\"text_2\">\r\n      <!-- 1 -->\r\n      <g transform=\"translate(101.529951 239.238438)scale(0.1 -0.1)\">\r\n       <defs>\r\n        <path d=\"M 794 531 \r\nL 1825 531 \r\nL 1825 4091 \r\nL 703 3866 \r\nL 703 4441 \r\nL 1819 4666 \r\nL 2450 4666 \r\nL 2450 531 \r\nL 3481 531 \r\nL 3481 0 \r\nL 794 0 \r\nL 794 531 \r\nz\r\n\" id=\"DejaVuSans-31\" transform=\"scale(0.015625)\"/>\r\n       </defs>\r\n       <use xlink:href=\"#DejaVuSans-31\"/>\r\n      </g>\r\n     </g>\r\n    </g>\r\n    <g id=\"xtick_3\">\r\n     <g id=\"line2d_3\">\r\n      <g>\r\n       <use style=\"stroke:#000000;stroke-width:0.8;\" x=\"148.191721\" xlink:href=\"#mf0c6d6ed71\" y=\"224.64\"/>\r\n      </g>\r\n     </g>\r\n     <g id=\"text_3\">\r\n      <!-- 2 -->\r\n      <g transform=\"translate(145.010471 239.238438)scale(0.1 -0.1)\">\r\n       <defs>\r\n        <path d=\"M 1228 531 \r\nL 3431 531 \r\nL 3431 0 \r\nL 469 0 \r\nL 469 531 \r\nQ 828 903 1448 1529 \r\nQ 2069 2156 2228 2338 \r\nQ 2531 2678 2651 2914 \r\nQ 2772 3150 2772 3378 \r\nQ 2772 3750 2511 3984 \r\nQ 2250 4219 1831 4219 \r\nQ 1534 4219 1204 4116 \r\nQ 875 4013 500 3803 \r\nL 500 4441 \r\nQ 881 4594 1212 4672 \r\nQ 1544 4750 1819 4750 \r\nQ 2544 4750 2975 4387 \r\nQ 3406 4025 3406 3419 \r\nQ 3406 3131 3298 2873 \r\nQ 3191 2616 2906 2266 \r\nQ 2828 2175 2409 1742 \r\nQ 1991 1309 1228 531 \r\nz\r\n\" id=\"DejaVuSans-32\" transform=\"scale(0.015625)\"/>\r\n       </defs>\r\n       <use xlink:href=\"#DejaVuSans-32\"/>\r\n      </g>\r\n     </g>\r\n    </g>\r\n    <g id=\"xtick_4\">\r\n     <g id=\"line2d_4\">\r\n      <g>\r\n       <use style=\"stroke:#000000;stroke-width:0.8;\" x=\"191.67224\" xlink:href=\"#mf0c6d6ed71\" y=\"224.64\"/>\r\n      </g>\r\n     </g>\r\n     <g id=\"text_4\">\r\n      <!-- 3 -->\r\n      <g transform=\"translate(188.49099 239.238438)scale(0.1 -0.1)\">\r\n       <defs>\r\n        <path d=\"M 2597 2516 \r\nQ 3050 2419 3304 2112 \r\nQ 3559 1806 3559 1356 \r\nQ 3559 666 3084 287 \r\nQ 2609 -91 1734 -91 \r\nQ 1441 -91 1130 -33 \r\nQ 819 25 488 141 \r\nL 488 750 \r\nQ 750 597 1062 519 \r\nQ 1375 441 1716 441 \r\nQ 2309 441 2620 675 \r\nQ 2931 909 2931 1356 \r\nQ 2931 1769 2642 2001 \r\nQ 2353 2234 1838 2234 \r\nL 1294 2234 \r\nL 1294 2753 \r\nL 1863 2753 \r\nQ 2328 2753 2575 2939 \r\nQ 2822 3125 2822 3475 \r\nQ 2822 3834 2567 4026 \r\nQ 2313 4219 1838 4219 \r\nQ 1578 4219 1281 4162 \r\nQ 984 4106 628 3988 \r\nL 628 4550 \r\nQ 988 4650 1302 4700 \r\nQ 1616 4750 1894 4750 \r\nQ 2613 4750 3031 4423 \r\nQ 3450 4097 3450 3541 \r\nQ 3450 3153 3228 2886 \r\nQ 3006 2619 2597 2516 \r\nz\r\n\" id=\"DejaVuSans-33\" transform=\"scale(0.015625)\"/>\r\n       </defs>\r\n       <use xlink:href=\"#DejaVuSans-33\"/>\r\n      </g>\r\n     </g>\r\n    </g>\r\n    <g id=\"xtick_5\">\r\n     <g id=\"line2d_5\">\r\n      <g>\r\n       <use style=\"stroke:#000000;stroke-width:0.8;\" x=\"235.15276\" xlink:href=\"#mf0c6d6ed71\" y=\"224.64\"/>\r\n      </g>\r\n     </g>\r\n     <g id=\"text_5\">\r\n      <!-- 4 -->\r\n      <g transform=\"translate(231.97151 239.238438)scale(0.1 -0.1)\">\r\n       <defs>\r\n        <path d=\"M 2419 4116 \r\nL 825 1625 \r\nL 2419 1625 \r\nL 2419 4116 \r\nz\r\nM 2253 4666 \r\nL 3047 4666 \r\nL 3047 1625 \r\nL 3713 1625 \r\nL 3713 1100 \r\nL 3047 1100 \r\nL 3047 0 \r\nL 2419 0 \r\nL 2419 1100 \r\nL 313 1100 \r\nL 313 1709 \r\nL 2253 4666 \r\nz\r\n\" id=\"DejaVuSans-34\" transform=\"scale(0.015625)\"/>\r\n       </defs>\r\n       <use xlink:href=\"#DejaVuSans-34\"/>\r\n      </g>\r\n     </g>\r\n    </g>\r\n    <g id=\"xtick_6\">\r\n     <g id=\"line2d_6\">\r\n      <g>\r\n       <use style=\"stroke:#000000;stroke-width:0.8;\" x=\"278.633279\" xlink:href=\"#mf0c6d6ed71\" y=\"224.64\"/>\r\n      </g>\r\n     </g>\r\n     <g id=\"text_6\">\r\n      <!-- 5 -->\r\n      <g transform=\"translate(275.452029 239.238438)scale(0.1 -0.1)\">\r\n       <defs>\r\n        <path d=\"M 691 4666 \r\nL 3169 4666 \r\nL 3169 4134 \r\nL 1269 4134 \r\nL 1269 2991 \r\nQ 1406 3038 1543 3061 \r\nQ 1681 3084 1819 3084 \r\nQ 2600 3084 3056 2656 \r\nQ 3513 2228 3513 1497 \r\nQ 3513 744 3044 326 \r\nQ 2575 -91 1722 -91 \r\nQ 1428 -91 1123 -41 \r\nQ 819 9 494 109 \r\nL 494 744 \r\nQ 775 591 1075 516 \r\nQ 1375 441 1709 441 \r\nQ 2250 441 2565 725 \r\nQ 2881 1009 2881 1497 \r\nQ 2881 1984 2565 2268 \r\nQ 2250 2553 1709 2553 \r\nQ 1456 2553 1204 2497 \r\nQ 953 2441 691 2322 \r\nL 691 4666 \r\nz\r\n\" id=\"DejaVuSans-35\" transform=\"scale(0.015625)\"/>\r\n       </defs>\r\n       <use xlink:href=\"#DejaVuSans-35\"/>\r\n      </g>\r\n     </g>\r\n    </g>\r\n    <g id=\"xtick_7\">\r\n     <g id=\"line2d_7\">\r\n      <g>\r\n       <use style=\"stroke:#000000;stroke-width:0.8;\" x=\"322.113799\" xlink:href=\"#mf0c6d6ed71\" y=\"224.64\"/>\r\n      </g>\r\n     </g>\r\n     <g id=\"text_7\">\r\n      <!-- 6 -->\r\n      <g transform=\"translate(318.932549 239.238438)scale(0.1 -0.1)\">\r\n       <defs>\r\n        <path d=\"M 2113 2584 \r\nQ 1688 2584 1439 2293 \r\nQ 1191 2003 1191 1497 \r\nQ 1191 994 1439 701 \r\nQ 1688 409 2113 409 \r\nQ 2538 409 2786 701 \r\nQ 3034 994 3034 1497 \r\nQ 3034 2003 2786 2293 \r\nQ 2538 2584 2113 2584 \r\nz\r\nM 3366 4563 \r\nL 3366 3988 \r\nQ 3128 4100 2886 4159 \r\nQ 2644 4219 2406 4219 \r\nQ 1781 4219 1451 3797 \r\nQ 1122 3375 1075 2522 \r\nQ 1259 2794 1537 2939 \r\nQ 1816 3084 2150 3084 \r\nQ 2853 3084 3261 2657 \r\nQ 3669 2231 3669 1497 \r\nQ 3669 778 3244 343 \r\nQ 2819 -91 2113 -91 \r\nQ 1303 -91 875 529 \r\nQ 447 1150 447 2328 \r\nQ 447 3434 972 4092 \r\nQ 1497 4750 2381 4750 \r\nQ 2619 4750 2861 4703 \r\nQ 3103 4656 3366 4563 \r\nz\r\n\" id=\"DejaVuSans-36\" transform=\"scale(0.015625)\"/>\r\n       </defs>\r\n       <use xlink:href=\"#DejaVuSans-36\"/>\r\n      </g>\r\n     </g>\r\n    </g>\r\n    <g id=\"xtick_8\">\r\n     <g id=\"line2d_8\">\r\n      <g>\r\n       <use style=\"stroke:#000000;stroke-width:0.8;\" x=\"365.594318\" xlink:href=\"#mf0c6d6ed71\" y=\"224.64\"/>\r\n      </g>\r\n     </g>\r\n     <g id=\"text_8\">\r\n      <!-- 7 -->\r\n      <g transform=\"translate(362.413068 239.238438)scale(0.1 -0.1)\">\r\n       <defs>\r\n        <path d=\"M 525 4666 \r\nL 3525 4666 \r\nL 3525 4397 \r\nL 1831 0 \r\nL 1172 0 \r\nL 2766 4134 \r\nL 525 4134 \r\nL 525 4666 \r\nz\r\n\" id=\"DejaVuSans-37\" transform=\"scale(0.015625)\"/>\r\n       </defs>\r\n       <use xlink:href=\"#DejaVuSans-37\"/>\r\n      </g>\r\n     </g>\r\n    </g>\r\n    <g id=\"text_9\">\r\n     <!-- 1e−5 -->\r\n     <g transform=\"translate(353.554688 251.916563)scale(0.1 -0.1)\">\r\n      <defs>\r\n       <path d=\"M 3597 1894 \r\nL 3597 1613 \r\nL 953 1613 \r\nQ 991 1019 1311 708 \r\nQ 1631 397 2203 397 \r\nQ 2534 397 2845 478 \r\nQ 3156 559 3463 722 \r\nL 3463 178 \r\nQ 3153 47 2828 -22 \r\nQ 2503 -91 2169 -91 \r\nQ 1331 -91 842 396 \r\nQ 353 884 353 1716 \r\nQ 353 2575 817 3079 \r\nQ 1281 3584 2069 3584 \r\nQ 2775 3584 3186 3129 \r\nQ 3597 2675 3597 1894 \r\nz\r\nM 3022 2063 \r\nQ 3016 2534 2758 2815 \r\nQ 2500 3097 2075 3097 \r\nQ 1594 3097 1305 2825 \r\nQ 1016 2553 972 2059 \r\nL 3022 2063 \r\nz\r\n\" id=\"DejaVuSans-65\" transform=\"scale(0.015625)\"/>\r\n       <path d=\"M 678 2272 \r\nL 4684 2272 \r\nL 4684 1741 \r\nL 678 1741 \r\nL 678 2272 \r\nz\r\n\" id=\"DejaVuSans-2212\" transform=\"scale(0.015625)\"/>\r\n      </defs>\r\n      <use xlink:href=\"#DejaVuSans-31\"/>\r\n      <use x=\"63.623047\" xlink:href=\"#DejaVuSans-65\"/>\r\n      <use x=\"125.146484\" xlink:href=\"#DejaVuSans-2212\"/>\r\n      <use x=\"208.935547\" xlink:href=\"#DejaVuSans-35\"/>\r\n     </g>\r\n    </g>\r\n   </g>\r\n   <g id=\"matplotlib.axis_2\">\r\n    <g id=\"ytick_1\">\r\n     <g id=\"line2d_9\">\r\n      <defs>\r\n       <path d=\"M 0 0 \r\nL -3.5 0 \r\n\" id=\"m1c9fdfd34d\" style=\"stroke:#000000;stroke-width:0.8;\"/>\r\n      </defs>\r\n      <g>\r\n       <use style=\"stroke:#000000;stroke-width:0.8;\" x=\"46.0125\" xlink:href=\"#m1c9fdfd34d\" y=\"224.64\"/>\r\n      </g>\r\n     </g>\r\n     <g id=\"text_10\">\r\n      <!-- 0 -->\r\n      <g transform=\"translate(32.65 228.439219)scale(0.1 -0.1)\">\r\n       <use xlink:href=\"#DejaVuSans-30\"/>\r\n      </g>\r\n     </g>\r\n    </g>\r\n    <g id=\"ytick_2\">\r\n     <g id=\"line2d_10\">\r\n      <g>\r\n       <use style=\"stroke:#000000;stroke-width:0.8;\" x=\"46.0125\" xlink:href=\"#m1c9fdfd34d\" y=\"184.820419\"/>\r\n      </g>\r\n     </g>\r\n     <g id=\"text_11\">\r\n      <!-- 5000 -->\r\n      <g transform=\"translate(13.5625 188.619637)scale(0.1 -0.1)\">\r\n       <use xlink:href=\"#DejaVuSans-35\"/>\r\n       <use x=\"63.623047\" xlink:href=\"#DejaVuSans-30\"/>\r\n       <use x=\"127.246094\" xlink:href=\"#DejaVuSans-30\"/>\r\n       <use x=\"190.869141\" xlink:href=\"#DejaVuSans-30\"/>\r\n      </g>\r\n     </g>\r\n    </g>\r\n    <g id=\"ytick_3\">\r\n     <g id=\"line2d_11\">\r\n      <g>\r\n       <use style=\"stroke:#000000;stroke-width:0.8;\" x=\"46.0125\" xlink:href=\"#m1c9fdfd34d\" y=\"145.000837\"/>\r\n      </g>\r\n     </g>\r\n     <g id=\"text_12\">\r\n      <!-- 10000 -->\r\n      <g transform=\"translate(7.2 148.800056)scale(0.1 -0.1)\">\r\n       <use xlink:href=\"#DejaVuSans-31\"/>\r\n       <use x=\"63.623047\" xlink:href=\"#DejaVuSans-30\"/>\r\n       <use x=\"127.246094\" xlink:href=\"#DejaVuSans-30\"/>\r\n       <use x=\"190.869141\" xlink:href=\"#DejaVuSans-30\"/>\r\n       <use x=\"254.492188\" xlink:href=\"#DejaVuSans-30\"/>\r\n      </g>\r\n     </g>\r\n    </g>\r\n    <g id=\"ytick_4\">\r\n     <g id=\"line2d_12\">\r\n      <g>\r\n       <use style=\"stroke:#000000;stroke-width:0.8;\" x=\"46.0125\" xlink:href=\"#m1c9fdfd34d\" y=\"105.181256\"/>\r\n      </g>\r\n     </g>\r\n     <g id=\"text_13\">\r\n      <!-- 15000 -->\r\n      <g transform=\"translate(7.2 108.980475)scale(0.1 -0.1)\">\r\n       <use xlink:href=\"#DejaVuSans-31\"/>\r\n       <use x=\"63.623047\" xlink:href=\"#DejaVuSans-35\"/>\r\n       <use x=\"127.246094\" xlink:href=\"#DejaVuSans-30\"/>\r\n       <use x=\"190.869141\" xlink:href=\"#DejaVuSans-30\"/>\r\n       <use x=\"254.492188\" xlink:href=\"#DejaVuSans-30\"/>\r\n      </g>\r\n     </g>\r\n    </g>\r\n    <g id=\"ytick_5\">\r\n     <g id=\"line2d_13\">\r\n      <g>\r\n       <use style=\"stroke:#000000;stroke-width:0.8;\" x=\"46.0125\" xlink:href=\"#m1c9fdfd34d\" y=\"65.361675\"/>\r\n      </g>\r\n     </g>\r\n     <g id=\"text_14\">\r\n      <!-- 20000 -->\r\n      <g transform=\"translate(7.2 69.160894)scale(0.1 -0.1)\">\r\n       <use xlink:href=\"#DejaVuSans-32\"/>\r\n       <use x=\"63.623047\" xlink:href=\"#DejaVuSans-30\"/>\r\n       <use x=\"127.246094\" xlink:href=\"#DejaVuSans-30\"/>\r\n       <use x=\"190.869141\" xlink:href=\"#DejaVuSans-30\"/>\r\n       <use x=\"254.492188\" xlink:href=\"#DejaVuSans-30\"/>\r\n      </g>\r\n     </g>\r\n    </g>\r\n    <g id=\"ytick_6\">\r\n     <g id=\"line2d_14\">\r\n      <g>\r\n       <use style=\"stroke:#000000;stroke-width:0.8;\" x=\"46.0125\" xlink:href=\"#m1c9fdfd34d\" y=\"25.542094\"/>\r\n      </g>\r\n     </g>\r\n     <g id=\"text_15\">\r\n      <!-- 25000 -->\r\n      <g transform=\"translate(7.2 29.341312)scale(0.1 -0.1)\">\r\n       <use xlink:href=\"#DejaVuSans-32\"/>\r\n       <use x=\"63.623047\" xlink:href=\"#DejaVuSans-35\"/>\r\n       <use x=\"127.246094\" xlink:href=\"#DejaVuSans-30\"/>\r\n       <use x=\"190.869141\" xlink:href=\"#DejaVuSans-30\"/>\r\n       <use x=\"254.492188\" xlink:href=\"#DejaVuSans-30\"/>\r\n      </g>\r\n     </g>\r\n    </g>\r\n   </g>\r\n   <g id=\"patch_17\">\r\n    <path d=\"M 46.0125 224.64 \r\nL 46.0125 7.2 \r\n\" style=\"fill:none;stroke:#000000;stroke-linecap:square;stroke-linejoin:miter;stroke-width:0.8;\"/>\r\n   </g>\r\n   <g id=\"patch_18\">\r\n    <path d=\"M 380.8125 224.64 \r\nL 380.8125 7.2 \r\n\" style=\"fill:none;stroke:#000000;stroke-linecap:square;stroke-linejoin:miter;stroke-width:0.8;\"/>\r\n   </g>\r\n   <g id=\"patch_19\">\r\n    <path d=\"M 46.0125 224.64 \r\nL 380.8125 224.64 \r\n\" style=\"fill:none;stroke:#000000;stroke-linecap:square;stroke-linejoin:miter;stroke-width:0.8;\"/>\r\n   </g>\r\n   <g id=\"patch_20\">\r\n    <path d=\"M 46.0125 7.2 \r\nL 380.8125 7.2 \r\n\" style=\"fill:none;stroke:#000000;stroke-linecap:square;stroke-linejoin:miter;stroke-width:0.8;\"/>\r\n   </g>\r\n  </g>\r\n </g>\r\n <defs>\r\n  <clipPath id=\"pd9642b864e\">\r\n   <rect height=\"217.44\" width=\"334.8\" x=\"46.0125\" y=\"7.2\"/>\r\n  </clipPath>\r\n </defs>\r\n</svg>\r\n",
      "image/png": "[encoded data removed]"
     },
     "metadata": {
      "needs_background": "light"
     }
    }
   ],
   "metadata": {}
  },
  {
   "cell_type": "code",
   "execution_count": 9,
   "source": [
    "std_calc.hist(bins=10)\r\n",
    "\r\n",
    "##This reveals that nearly 50k features have very weak variance, \r\n",
    "# and thereby unlikely to contain vital information for age prediction"
   ],
   "outputs": [
    {
     "output_type": "execute_result",
     "data": {
      "text/plain": [
       "<AxesSubplot:>"
      ]
     },
     "metadata": {},
     "execution_count": 9
    },
    {
     "output_type": "display_data",
     "data": {
      "text/plain": [
       "<Figure size 432x288 with 1 Axes>"
      ],
      "image/png": "[encoded data removed]"
     },
     "metadata": {
      "needs_background": "light"
     }
    }
   ],
   "metadata": {}
  },
  {
   "cell_type": "code",
   "execution_count": 13,
   "source": [
    "##feature selection: SelectKBest\r\n",
    "# Selects the top 25% scoring features -- about 13k features \r\n",
    "k = int(X.shape[1] * 0.25)\r\n",
    "selector = SelectKBest(mutual_info_regression, k = k)\r\n",
    "selector.fit(X, y)"
   ],
   "outputs": [
    {
     "output_type": "execute_result",
     "data": {
      "text/plain": [
       "SelectKBest(k=13233,\n",
       "            score_func=<function mutual_info_regression at 0x000002A31DE09F70>)"
      ]
     },
     "metadata": {},
     "execution_count": 13
    }
   ],
   "metadata": {}
  },
  {
   "cell_type": "code",
   "execution_count": 14,
   "source": [
    "#generate the names of the remaining features \r\n",
    "kbest_support = X.columns[selector.get_support()]\r\n",
    "kbest_support"
   ],
   "outputs": [
    {
     "output_type": "execute_result",
     "data": {
      "text/plain": [
       "Index(['ENSG00000000005.5', 'ENSG00000000419.12', 'ENSG00000000457.13',\n",
       "       'ENSG00000000460.16', 'ENSG00000000938.12', 'ENSG00000000971.15',\n",
       "       'ENSG00000001167.14', 'ENSG00000001461.16', 'ENSG00000001626.14',\n",
       "       'ENSG00000001630.15',\n",
       "       ...\n",
       "       'ENSG00000283602.1', 'ENSG00000283607.1', 'ENSG00000283620.1',\n",
       "       'ENSG00000283633.1', 'ENSG00000283647.1', 'ENSG00000283657.1',\n",
       "       'ENSG00000283662.1', 'ENSG00000283683.1', 'ENSG00000283684.1',\n",
       "       'ENSG00000283697.1'],\n",
       "      dtype='object', length=13233)"
      ]
     },
     "metadata": {},
     "execution_count": 14
    }
   ],
   "metadata": {}
  },
  {
   "cell_type": "code",
   "execution_count": 15,
   "source": [
    "##bivariate correlation between age and 25% percentile features\r\n",
    "df_kbest_feats = df_feats_w_age_sample[kbest_support]\r\n",
    "df_age = df_labels['age']\r\n",
    "\r\n",
    "pairwise_corr = df_kbest_feats.corrwith(df_age, axis=0, drop=False, method='pearson')\r\n",
    "pairwise_corr.describe()\r\n",
    "#pairwise_corr\r\n",
    "\r\n",
    "##This reveals - to our dismay - that there's the no statistically significant \r\n",
    "# correlation between many features and age of the patient\r\n",
    "# Though it allow us to further reduce the dimentionality of the features \r\n",
    "##This also rule out linear regression as a potential prediction method"
   ],
   "outputs": [
    {
     "output_type": "execute_result",
     "data": {
      "text/plain": [
       "count    13233.000000\n",
       "mean         0.081787\n",
       "std          0.140539\n",
       "min         -0.317465\n",
       "25%         -0.053000\n",
       "50%          0.138972\n",
       "75%          0.203979\n",
       "max          0.306376\n",
       "dtype: float64"
      ]
     },
     "metadata": {},
     "execution_count": 15
    }
   ],
   "metadata": {}
  },
  {
   "cell_type": "code",
   "execution_count": 14,
   "source": [
    "##removing features with less than +- 0.2 correlation with age\r\n",
    "# This leaves us with 4 thousand features, which is manageable for some learning attempts\r\n",
    "pairwise_corr_filtered = pairwise_corr.loc[abs(pairwise_corr) >= 0.2]\r\n",
    "pairwise_corr_filtered"
   ],
   "outputs": [
    {
     "output_type": "execute_result",
     "data": {
      "text/plain": [
       "ENSG00000000457.13    0.213035\n",
       "ENSG00000001461.16    0.221449\n",
       "ENSG00000004059.10    0.209159\n",
       "ENSG00000004142.11    0.204998\n",
       "ENSG00000004478.7     0.250613\n",
       "                        ...   \n",
       "ENSG00000283377.1    -0.226683\n",
       "ENSG00000283390.1     0.233593\n",
       "ENSG00000283453.1     0.205079\n",
       "ENSG00000283547.1    -0.201583\n",
       "ENSG00000283620.1     0.225028\n",
       "Length: 3873, dtype: float64"
      ]
     },
     "metadata": {},
     "execution_count": 14
    }
   ],
   "metadata": {}
  },
  {
   "cell_type": "code",
   "execution_count": 17,
   "source": [
    "##persist the df (the remaining features)\r\n",
    "# X_filtered = X[pairwise_corr_filtered.index]\r\n",
    "# X_filtered.to_pickle('./X_filtered.pickle')"
   ],
   "outputs": [
    {
     "output_type": "stream",
     "name": "stdout",
     "text": [
      "(965, 3873)\n"
     ]
    }
   ],
   "metadata": {}
  },
  {
   "cell_type": "markdown",
   "source": [
    "This is the 5k selected pickle"
   ],
   "metadata": {}
  },
  {
   "cell_type": "code",
   "execution_count": 9,
   "source": [
    "X_filtered = pd.read_pickle('./X_filtered4K.pickle')\r\n",
    "print(X_filtered.shape)\r\n",
    "X_train, X_test, y_train, y_test = train_test_split(X_filtered, y, test_size=0.2)"
   ],
   "outputs": [
    {
     "output_type": "stream",
     "name": "stdout",
     "text": [
      "(965, 3873)\n"
     ]
    }
   ],
   "metadata": {}
  },
  {
   "cell_type": "code",
   "execution_count": 10,
   "source": [
    "##Performing a cartesian product correlation calculation\r\n",
    "# The goal is to reveal features that may be strongly correlated with themselves\r\n",
    "# and allow us to reduce the features further\r\n",
    "filtered_corr = X_filtered.corr(method='pearson')"
   ],
   "outputs": [],
   "metadata": {}
  },
  {
   "cell_type": "code",
   "execution_count": 11,
   "source": [
    "##removing value 1.0 from the df, as they are the correlation with self\r\n",
    "# which is just the diagonal line of the df\r\n",
    "filtered_corr_rm_diag = filtered_corr.copy()\r\n",
    "for i in range(len(filtered_corr)):\r\n",
    "    filtered_corr_rm_diag.iloc[i,i] = None\r\n",
    "    \r\n",
    "#filtered_corr_rm_diag"
   ],
   "outputs": [
    {
     "output_type": "execute_result",
     "data": {
      "text/plain": [
       "                    ENSG00000000457.13  ENSG00000001461.16  \\\n",
       "ENSG00000000457.13                 NaN            0.629971   \n",
       "ENSG00000001461.16            0.629971                 NaN   \n",
       "ENSG00000004059.10            0.586050            0.427006   \n",
       "ENSG00000004142.11            0.583838            0.504683   \n",
       "ENSG00000004478.7             0.560616            0.566244   \n",
       "...                                ...                 ...   \n",
       "ENSG00000283377.1            -0.371873           -0.361990   \n",
       "ENSG00000283390.1             0.568959            0.441263   \n",
       "ENSG00000283453.1             0.626789            0.619072   \n",
       "ENSG00000283547.1            -0.256472           -0.248308   \n",
       "ENSG00000283620.1             0.698049            0.623120   \n",
       "\n",
       "                    ENSG00000004059.10  ENSG00000004142.11  ENSG00000004478.7  \\\n",
       "ENSG00000000457.13            0.586050            0.583838           0.560616   \n",
       "ENSG00000001461.16            0.427006            0.504683           0.566244   \n",
       "ENSG00000004059.10                 NaN            0.606935           0.550115   \n",
       "ENSG00000004142.11            0.606935                 NaN           0.641047   \n",
       "ENSG00000004478.7             0.550115            0.641047                NaN   \n",
       "...                                ...                 ...                ...   \n",
       "ENSG00000283377.1            -0.374544           -0.340473          -0.398938   \n",
       "ENSG00000283390.1             0.786922            0.593315           0.607747   \n",
       "ENSG00000283453.1             0.581512            0.586837           0.606322   \n",
       "ENSG00000283547.1            -0.311487           -0.259930          -0.307557   \n",
       "ENSG00000283620.1             0.692398            0.664424           0.698339   \n",
       "\n",
       "                    ENSG00000004779.9  ENSG00000004838.13  ENSG00000005022.5  \\\n",
       "ENSG00000000457.13           0.616913            0.548981           0.579765   \n",
       "ENSG00000001461.16           0.494109            0.436020           0.505156   \n",
       "ENSG00000004059.10           0.777183            0.521925           0.694310   \n",
       "ENSG00000004142.11           0.686901            0.398832           0.652106   \n",
       "ENSG00000004478.7            0.670017            0.506098           0.592668   \n",
       "...                               ...                 ...                ...   \n",
       "ENSG00000283377.1           -0.386857           -0.299730          -0.378911   \n",
       "ENSG00000283390.1            0.770991            0.610873           0.607880   \n",
       "ENSG00000283453.1            0.614263            0.351811           0.737292   \n",
       "ENSG00000283547.1           -0.309210           -0.243198          -0.316987   \n",
       "ENSG00000283620.1            0.761062            0.640680           0.645479   \n",
       "\n",
       "                    ENSG00000005156.11  ENSG00000005175.9  ...  \\\n",
       "ENSG00000000457.13            0.684301           0.792684  ...   \n",
       "ENSG00000001461.16            0.586107           0.662638  ...   \n",
       "ENSG00000004059.10            0.515079           0.580500  ...   \n",
       "ENSG00000004142.11            0.627791           0.684452  ...   \n",
       "ENSG00000004478.7             0.598098           0.699216  ...   \n",
       "...                                ...                ...  ...   \n",
       "ENSG00000283377.1            -0.355282          -0.401772  ...   \n",
       "ENSG00000283390.1             0.503328           0.555824  ...   \n",
       "ENSG00000283453.1             0.649834           0.752840  ...   \n",
       "ENSG00000283547.1            -0.237279          -0.293809  ...   \n",
       "ENSG00000283620.1             0.665611           0.725630  ...   \n",
       "\n",
       "                    ENSG00000283174.1  ENSG00000283220.1  ENSG00000283266.1  \\\n",
       "ENSG00000000457.13          -0.263991           0.701752           0.677614   \n",
       "ENSG00000001461.16          -0.246419           0.493919           0.658826   \n",
       "ENSG00000004059.10          -0.288018           0.685924           0.423980   \n",
       "ENSG00000004142.11          -0.229287           0.620567           0.600116   \n",
       "ENSG00000004478.7           -0.277383           0.596275           0.615966   \n",
       "...                               ...                ...                ...   \n",
       "ENSG00000283377.1            0.247485          -0.378150          -0.388723   \n",
       "ENSG00000283390.1           -0.296566           0.700459           0.450727   \n",
       "ENSG00000283453.1           -0.285854           0.537987           0.718616   \n",
       "ENSG00000283547.1            0.142514          -0.295821          -0.241810   \n",
       "ENSG00000283620.1           -0.285745           0.766236           0.675624   \n",
       "\n",
       "                    ENSG00000283368.1  ENSG00000283371.1  ENSG00000283377.1  \\\n",
       "ENSG00000000457.13          -0.281305           0.757238          -0.371873   \n",
       "ENSG00000001461.16          -0.288485           0.617767          -0.361990   \n",
       "ENSG00000004059.10          -0.309645           0.551801          -0.374544   \n",
       "ENSG00000004142.11          -0.325126           0.533264          -0.340473   \n",
       "ENSG00000004478.7           -0.400211           0.580040          -0.398938   \n",
       "...                               ...                ...                ...   \n",
       "ENSG00000283377.1            0.314276          -0.395259                NaN   \n",
       "ENSG00000283390.1           -0.462987           0.590088          -0.415054   \n",
       "ENSG00000283453.1           -0.465573           0.606439          -0.418771   \n",
       "ENSG00000283547.1            0.256793          -0.316983           0.630886   \n",
       "ENSG00000283620.1           -0.382195           0.771938          -0.405978   \n",
       "\n",
       "                    ENSG00000283390.1  ENSG00000283453.1  ENSG00000283547.1  \\\n",
       "ENSG00000000457.13           0.568959           0.626789          -0.256472   \n",
       "ENSG00000001461.16           0.441263           0.619072          -0.248308   \n",
       "ENSG00000004059.10           0.786922           0.581512          -0.311487   \n",
       "ENSG00000004142.11           0.593315           0.586837          -0.259930   \n",
       "ENSG00000004478.7            0.607747           0.606322          -0.307557   \n",
       "...                               ...                ...                ...   \n",
       "ENSG00000283377.1           -0.415054          -0.418771           0.630886   \n",
       "ENSG00000283390.1                 NaN           0.538731          -0.342924   \n",
       "ENSG00000283453.1            0.538731                NaN          -0.313098   \n",
       "ENSG00000283547.1           -0.342924          -0.313098                NaN   \n",
       "ENSG00000283620.1            0.684172           0.693215          -0.332379   \n",
       "\n",
       "                    ENSG00000283620.1  \n",
       "ENSG00000000457.13           0.698049  \n",
       "ENSG00000001461.16           0.623120  \n",
       "ENSG00000004059.10           0.692398  \n",
       "ENSG00000004142.11           0.664424  \n",
       "ENSG00000004478.7            0.698339  \n",
       "...                               ...  \n",
       "ENSG00000283377.1           -0.405978  \n",
       "ENSG00000283390.1            0.684172  \n",
       "ENSG00000283453.1            0.693215  \n",
       "ENSG00000283547.1           -0.332379  \n",
       "ENSG00000283620.1                 NaN  \n",
       "\n",
       "[3873 rows x 3873 columns]"
      ],
      "text/html": [
       "<div>\n",
       "<style scoped>\n",
       "    .dataframe tbody tr th:only-of-type {\n",
       "        vertical-align: middle;\n",
       "    }\n",
       "\n",
       "    .dataframe tbody tr th {\n",
       "        vertical-align: top;\n",
       "    }\n",
       "\n",
       "    .dataframe thead th {\n",
       "        text-align: right;\n",
       "    }\n",
       "</style>\n",
       "<table border=\"1\" class=\"dataframe\">\n",
       "  <thead>\n",
       "    <tr style=\"text-align: right;\">\n",
       "      <th></th>\n",
       "      <th>ENSG00000000457.13</th>\n",
       "      <th>ENSG00000001461.16</th>\n",
       "      <th>ENSG00000004059.10</th>\n",
       "      <th>ENSG00000004142.11</th>\n",
       "      <th>ENSG00000004478.7</th>\n",
       "      <th>ENSG00000004779.9</th>\n",
       "      <th>ENSG00000004838.13</th>\n",
       "      <th>ENSG00000005022.5</th>\n",
       "      <th>ENSG00000005156.11</th>\n",
       "      <th>ENSG00000005175.9</th>\n",
       "      <th>...</th>\n",
       "      <th>ENSG00000283174.1</th>\n",
       "      <th>ENSG00000283220.1</th>\n",
       "      <th>ENSG00000283266.1</th>\n",
       "      <th>ENSG00000283368.1</th>\n",
       "      <th>ENSG00000283371.1</th>\n",
       "      <th>ENSG00000283377.1</th>\n",
       "      <th>ENSG00000283390.1</th>\n",
       "      <th>ENSG00000283453.1</th>\n",
       "      <th>ENSG00000283547.1</th>\n",
       "      <th>ENSG00000283620.1</th>\n",
       "    </tr>\n",
       "  </thead>\n",
       "  <tbody>\n",
       "    <tr>\n",
       "      <th>ENSG00000000457.13</th>\n",
       "      <td>NaN</td>\n",
       "      <td>0.629971</td>\n",
       "      <td>0.586050</td>\n",
       "      <td>0.583838</td>\n",
       "      <td>0.560616</td>\n",
       "      <td>0.616913</td>\n",
       "      <td>0.548981</td>\n",
       "      <td>0.579765</td>\n",
       "      <td>0.684301</td>\n",
       "      <td>0.792684</td>\n",
       "      <td>...</td>\n",
       "      <td>-0.263991</td>\n",
       "      <td>0.701752</td>\n",
       "      <td>0.677614</td>\n",
       "      <td>-0.281305</td>\n",
       "      <td>0.757238</td>\n",
       "      <td>-0.371873</td>\n",
       "      <td>0.568959</td>\n",
       "      <td>0.626789</td>\n",
       "      <td>-0.256472</td>\n",
       "      <td>0.698049</td>\n",
       "    </tr>\n",
       "    <tr>\n",
       "      <th>ENSG00000001461.16</th>\n",
       "      <td>0.629971</td>\n",
       "      <td>NaN</td>\n",
       "      <td>0.427006</td>\n",
       "      <td>0.504683</td>\n",
       "      <td>0.566244</td>\n",
       "      <td>0.494109</td>\n",
       "      <td>0.436020</td>\n",
       "      <td>0.505156</td>\n",
       "      <td>0.586107</td>\n",
       "      <td>0.662638</td>\n",
       "      <td>...</td>\n",
       "      <td>-0.246419</td>\n",
       "      <td>0.493919</td>\n",
       "      <td>0.658826</td>\n",
       "      <td>-0.288485</td>\n",
       "      <td>0.617767</td>\n",
       "      <td>-0.361990</td>\n",
       "      <td>0.441263</td>\n",
       "      <td>0.619072</td>\n",
       "      <td>-0.248308</td>\n",
       "      <td>0.623120</td>\n",
       "    </tr>\n",
       "    <tr>\n",
       "      <th>ENSG00000004059.10</th>\n",
       "      <td>0.586050</td>\n",
       "      <td>0.427006</td>\n",
       "      <td>NaN</td>\n",
       "      <td>0.606935</td>\n",
       "      <td>0.550115</td>\n",
       "      <td>0.777183</td>\n",
       "      <td>0.521925</td>\n",
       "      <td>0.694310</td>\n",
       "      <td>0.515079</td>\n",
       "      <td>0.580500</td>\n",
       "      <td>...</td>\n",
       "      <td>-0.288018</td>\n",
       "      <td>0.685924</td>\n",
       "      <td>0.423980</td>\n",
       "      <td>-0.309645</td>\n",
       "      <td>0.551801</td>\n",
       "      <td>-0.374544</td>\n",
       "      <td>0.786922</td>\n",
       "      <td>0.581512</td>\n",
       "      <td>-0.311487</td>\n",
       "      <td>0.692398</td>\n",
       "    </tr>\n",
       "    <tr>\n",
       "      <th>ENSG00000004142.11</th>\n",
       "      <td>0.583838</td>\n",
       "      <td>0.504683</td>\n",
       "      <td>0.606935</td>\n",
       "      <td>NaN</td>\n",
       "      <td>0.641047</td>\n",
       "      <td>0.686901</td>\n",
       "      <td>0.398832</td>\n",
       "      <td>0.652106</td>\n",
       "      <td>0.627791</td>\n",
       "      <td>0.684452</td>\n",
       "      <td>...</td>\n",
       "      <td>-0.229287</td>\n",
       "      <td>0.620567</td>\n",
       "      <td>0.600116</td>\n",
       "      <td>-0.325126</td>\n",
       "      <td>0.533264</td>\n",
       "      <td>-0.340473</td>\n",
       "      <td>0.593315</td>\n",
       "      <td>0.586837</td>\n",
       "      <td>-0.259930</td>\n",
       "      <td>0.664424</td>\n",
       "    </tr>\n",
       "    <tr>\n",
       "      <th>ENSG00000004478.7</th>\n",
       "      <td>0.560616</td>\n",
       "      <td>0.566244</td>\n",
       "      <td>0.550115</td>\n",
       "      <td>0.641047</td>\n",
       "      <td>NaN</td>\n",
       "      <td>0.670017</td>\n",
       "      <td>0.506098</td>\n",
       "      <td>0.592668</td>\n",
       "      <td>0.598098</td>\n",
       "      <td>0.699216</td>\n",
       "      <td>...</td>\n",
       "      <td>-0.277383</td>\n",
       "      <td>0.596275</td>\n",
       "      <td>0.615966</td>\n",
       "      <td>-0.400211</td>\n",
       "      <td>0.580040</td>\n",
       "      <td>-0.398938</td>\n",
       "      <td>0.607747</td>\n",
       "      <td>0.606322</td>\n",
       "      <td>-0.307557</td>\n",
       "      <td>0.698339</td>\n",
       "    </tr>\n",
       "    <tr>\n",
       "      <th>...</th>\n",
       "      <td>...</td>\n",
       "      <td>...</td>\n",
       "      <td>...</td>\n",
       "      <td>...</td>\n",
       "      <td>...</td>\n",
       "      <td>...</td>\n",
       "      <td>...</td>\n",
       "      <td>...</td>\n",
       "      <td>...</td>\n",
       "      <td>...</td>\n",
       "      <td>...</td>\n",
       "      <td>...</td>\n",
       "      <td>...</td>\n",
       "      <td>...</td>\n",
       "      <td>...</td>\n",
       "      <td>...</td>\n",
       "      <td>...</td>\n",
       "      <td>...</td>\n",
       "      <td>...</td>\n",
       "      <td>...</td>\n",
       "      <td>...</td>\n",
       "    </tr>\n",
       "    <tr>\n",
       "      <th>ENSG00000283377.1</th>\n",
       "      <td>-0.371873</td>\n",
       "      <td>-0.361990</td>\n",
       "      <td>-0.374544</td>\n",
       "      <td>-0.340473</td>\n",
       "      <td>-0.398938</td>\n",
       "      <td>-0.386857</td>\n",
       "      <td>-0.299730</td>\n",
       "      <td>-0.378911</td>\n",
       "      <td>-0.355282</td>\n",
       "      <td>-0.401772</td>\n",
       "      <td>...</td>\n",
       "      <td>0.247485</td>\n",
       "      <td>-0.378150</td>\n",
       "      <td>-0.388723</td>\n",
       "      <td>0.314276</td>\n",
       "      <td>-0.395259</td>\n",
       "      <td>NaN</td>\n",
       "      <td>-0.415054</td>\n",
       "      <td>-0.418771</td>\n",
       "      <td>0.630886</td>\n",
       "      <td>-0.405978</td>\n",
       "    </tr>\n",
       "    <tr>\n",
       "      <th>ENSG00000283390.1</th>\n",
       "      <td>0.568959</td>\n",
       "      <td>0.441263</td>\n",
       "      <td>0.786922</td>\n",
       "      <td>0.593315</td>\n",
       "      <td>0.607747</td>\n",
       "      <td>0.770991</td>\n",
       "      <td>0.610873</td>\n",
       "      <td>0.607880</td>\n",
       "      <td>0.503328</td>\n",
       "      <td>0.555824</td>\n",
       "      <td>...</td>\n",
       "      <td>-0.296566</td>\n",
       "      <td>0.700459</td>\n",
       "      <td>0.450727</td>\n",
       "      <td>-0.462987</td>\n",
       "      <td>0.590088</td>\n",
       "      <td>-0.415054</td>\n",
       "      <td>NaN</td>\n",
       "      <td>0.538731</td>\n",
       "      <td>-0.342924</td>\n",
       "      <td>0.684172</td>\n",
       "    </tr>\n",
       "    <tr>\n",
       "      <th>ENSG00000283453.1</th>\n",
       "      <td>0.626789</td>\n",
       "      <td>0.619072</td>\n",
       "      <td>0.581512</td>\n",
       "      <td>0.586837</td>\n",
       "      <td>0.606322</td>\n",
       "      <td>0.614263</td>\n",
       "      <td>0.351811</td>\n",
       "      <td>0.737292</td>\n",
       "      <td>0.649834</td>\n",
       "      <td>0.752840</td>\n",
       "      <td>...</td>\n",
       "      <td>-0.285854</td>\n",
       "      <td>0.537987</td>\n",
       "      <td>0.718616</td>\n",
       "      <td>-0.465573</td>\n",
       "      <td>0.606439</td>\n",
       "      <td>-0.418771</td>\n",
       "      <td>0.538731</td>\n",
       "      <td>NaN</td>\n",
       "      <td>-0.313098</td>\n",
       "      <td>0.693215</td>\n",
       "    </tr>\n",
       "    <tr>\n",
       "      <th>ENSG00000283547.1</th>\n",
       "      <td>-0.256472</td>\n",
       "      <td>-0.248308</td>\n",
       "      <td>-0.311487</td>\n",
       "      <td>-0.259930</td>\n",
       "      <td>-0.307557</td>\n",
       "      <td>-0.309210</td>\n",
       "      <td>-0.243198</td>\n",
       "      <td>-0.316987</td>\n",
       "      <td>-0.237279</td>\n",
       "      <td>-0.293809</td>\n",
       "      <td>...</td>\n",
       "      <td>0.142514</td>\n",
       "      <td>-0.295821</td>\n",
       "      <td>-0.241810</td>\n",
       "      <td>0.256793</td>\n",
       "      <td>-0.316983</td>\n",
       "      <td>0.630886</td>\n",
       "      <td>-0.342924</td>\n",
       "      <td>-0.313098</td>\n",
       "      <td>NaN</td>\n",
       "      <td>-0.332379</td>\n",
       "    </tr>\n",
       "    <tr>\n",
       "      <th>ENSG00000283620.1</th>\n",
       "      <td>0.698049</td>\n",
       "      <td>0.623120</td>\n",
       "      <td>0.692398</td>\n",
       "      <td>0.664424</td>\n",
       "      <td>0.698339</td>\n",
       "      <td>0.761062</td>\n",
       "      <td>0.640680</td>\n",
       "      <td>0.645479</td>\n",
       "      <td>0.665611</td>\n",
       "      <td>0.725630</td>\n",
       "      <td>...</td>\n",
       "      <td>-0.285745</td>\n",
       "      <td>0.766236</td>\n",
       "      <td>0.675624</td>\n",
       "      <td>-0.382195</td>\n",
       "      <td>0.771938</td>\n",
       "      <td>-0.405978</td>\n",
       "      <td>0.684172</td>\n",
       "      <td>0.693215</td>\n",
       "      <td>-0.332379</td>\n",
       "      <td>NaN</td>\n",
       "    </tr>\n",
       "  </tbody>\n",
       "</table>\n",
       "<p>3873 rows × 3873 columns</p>\n",
       "</div>"
      ]
     },
     "metadata": {},
     "execution_count": 11
    }
   ],
   "metadata": {
    "scrolled": false
   }
  },
  {
   "cell_type": "code",
   "execution_count": 15,
   "source": [
    "## We expect *many* clusters of inter-correlated features from this basic report\r\n",
    "#  A way to mentally visualize them is to consider them as nodes of a graph, \r\n",
    "#  where an edge exist between two nodes when their correlation is > +- .8\r\n",
    "\r\n",
    "## At this point we decide to attempt some learning models before further \r\n",
    "#  reducing the features. \r\n",
    "filtered_corr_rm_diag.describe()"
   ],
   "outputs": [
    {
     "output_type": "execute_result",
     "data": {
      "text/plain": [
       "       ENSG00000000457.13  ENSG00000001461.16  ENSG00000004059.10  \\\n",
       "count         3872.000000         3872.000000         3872.000000   \n",
       "mean             0.577464            0.517657            0.527645   \n",
       "std              0.256664            0.240921            0.256842   \n",
       "min             -0.560534           -0.528495           -0.603606   \n",
       "25%              0.574681            0.504684            0.490520   \n",
       "50%              0.644750            0.583276            0.581144   \n",
       "75%              0.695956            0.639454            0.664639   \n",
       "max              0.854063            0.775522            0.886404   \n",
       "\n",
       "       ENSG00000004142.11  ENSG00000004478.7  ENSG00000004779.9  \\\n",
       "count         3872.000000        3872.000000        3872.000000   \n",
       "mean             0.530568           0.543261           0.574426   \n",
       "std              0.225744           0.251979           0.253181   \n",
       "min             -0.529907          -0.589222          -0.603262   \n",
       "25%              0.535758           0.556207           0.562435   \n",
       "50%              0.590960           0.609373           0.635370   \n",
       "75%              0.631819           0.650543           0.692152   \n",
       "max              0.893947           0.970033           0.876643   \n",
       "\n",
       "       ENSG00000004838.13  ENSG00000005022.5  ENSG00000005156.11  \\\n",
       "count         3872.000000        3872.000000         3872.000000   \n",
       "mean             0.430566           0.559998            0.543847   \n",
       "std              0.208610           0.254594            0.245249   \n",
       "min             -0.454203          -0.627079           -0.520204   \n",
       "25%              0.405463           0.546069            0.541198   \n",
       "50%              0.471776           0.627049            0.611870   \n",
       "75%              0.535769           0.687093            0.659959   \n",
       "max              0.858121           0.960791            0.789452   \n",
       "\n",
       "       ENSG00000005175.9  ...  ENSG00000283174.1  ENSG00000283220.1  \\\n",
       "count        3872.000000  ...        3872.000000        3872.000000   \n",
       "mean            0.633920  ...          -0.238837           0.545762   \n",
       "std             0.282835  ...           0.131411           0.248949   \n",
       "min            -0.607611  ...          -0.365180          -0.573070   \n",
       "25%             0.620609  ...          -0.293321           0.546013   \n",
       "50%             0.713521  ...          -0.271753           0.605190   \n",
       "75%             0.772971  ...          -0.246041           0.655525   \n",
       "max             0.900455  ...           0.774902           0.998809   \n",
       "\n",
       "       ENSG00000283266.1  ENSG00000283368.1  ENSG00000283371.1  \\\n",
       "count        3872.000000        3872.000000        3872.000000   \n",
       "mean            0.583129          -0.329799           0.567040   \n",
       "std             0.269992           0.212490           0.262085   \n",
       "min            -0.583272          -0.560884          -0.563958   \n",
       "25%             0.550681          -0.441389           0.562874   \n",
       "50%             0.652887          -0.371478           0.633511   \n",
       "75%             0.729485          -0.303292           0.687999   \n",
       "max             0.964026           0.996901           0.856796   \n",
       "\n",
       "       ENSG00000283377.1  ENSG00000283390.1  ENSG00000283453.1  \\\n",
       "count        3872.000000        3872.000000        3872.000000   \n",
       "mean           -0.336920           0.529082           0.592693   \n",
       "std             0.199685           0.271325           0.283170   \n",
       "min            -0.492855          -0.634350          -0.644049   \n",
       "25%            -0.416813           0.486969           0.566295   \n",
       "50%            -0.385232           0.579154           0.667400   \n",
       "75%            -0.351887           0.673142           0.742010   \n",
       "max             0.734694           0.895916           0.886999   \n",
       "\n",
       "       ENSG00000283547.1  ENSG00000283620.1  \n",
       "count        3872.000000        3872.000000  \n",
       "mean           -0.254591           0.607049  \n",
       "std             0.157045           0.272535  \n",
       "min            -0.390682          -0.630077  \n",
       "25%            -0.322811           0.620636  \n",
       "50%            -0.292367           0.677117  \n",
       "75%            -0.257142           0.722800  \n",
       "max             0.631837           0.987916  \n",
       "\n",
       "[8 rows x 3873 columns]"
      ],
      "text/html": [
       "<div>\n",
       "<style scoped>\n",
       "    .dataframe tbody tr th:only-of-type {\n",
       "        vertical-align: middle;\n",
       "    }\n",
       "\n",
       "    .dataframe tbody tr th {\n",
       "        vertical-align: top;\n",
       "    }\n",
       "\n",
       "    .dataframe thead th {\n",
       "        text-align: right;\n",
       "    }\n",
       "</style>\n",
       "<table border=\"1\" class=\"dataframe\">\n",
       "  <thead>\n",
       "    <tr style=\"text-align: right;\">\n",
       "      <th></th>\n",
       "      <th>ENSG00000000457.13</th>\n",
       "      <th>ENSG00000001461.16</th>\n",
       "      <th>ENSG00000004059.10</th>\n",
       "      <th>ENSG00000004142.11</th>\n",
       "      <th>ENSG00000004478.7</th>\n",
       "      <th>ENSG00000004779.9</th>\n",
       "      <th>ENSG00000004838.13</th>\n",
       "      <th>ENSG00000005022.5</th>\n",
       "      <th>ENSG00000005156.11</th>\n",
       "      <th>ENSG00000005175.9</th>\n",
       "      <th>...</th>\n",
       "      <th>ENSG00000283174.1</th>\n",
       "      <th>ENSG00000283220.1</th>\n",
       "      <th>ENSG00000283266.1</th>\n",
       "      <th>ENSG00000283368.1</th>\n",
       "      <th>ENSG00000283371.1</th>\n",
       "      <th>ENSG00000283377.1</th>\n",
       "      <th>ENSG00000283390.1</th>\n",
       "      <th>ENSG00000283453.1</th>\n",
       "      <th>ENSG00000283547.1</th>\n",
       "      <th>ENSG00000283620.1</th>\n",
       "    </tr>\n",
       "  </thead>\n",
       "  <tbody>\n",
       "    <tr>\n",
       "      <th>count</th>\n",
       "      <td>3872.000000</td>\n",
       "      <td>3872.000000</td>\n",
       "      <td>3872.000000</td>\n",
       "      <td>3872.000000</td>\n",
       "      <td>3872.000000</td>\n",
       "      <td>3872.000000</td>\n",
       "      <td>3872.000000</td>\n",
       "      <td>3872.000000</td>\n",
       "      <td>3872.000000</td>\n",
       "      <td>3872.000000</td>\n",
       "      <td>...</td>\n",
       "      <td>3872.000000</td>\n",
       "      <td>3872.000000</td>\n",
       "      <td>3872.000000</td>\n",
       "      <td>3872.000000</td>\n",
       "      <td>3872.000000</td>\n",
       "      <td>3872.000000</td>\n",
       "      <td>3872.000000</td>\n",
       "      <td>3872.000000</td>\n",
       "      <td>3872.000000</td>\n",
       "      <td>3872.000000</td>\n",
       "    </tr>\n",
       "    <tr>\n",
       "      <th>mean</th>\n",
       "      <td>0.577464</td>\n",
       "      <td>0.517657</td>\n",
       "      <td>0.527645</td>\n",
       "      <td>0.530568</td>\n",
       "      <td>0.543261</td>\n",
       "      <td>0.574426</td>\n",
       "      <td>0.430566</td>\n",
       "      <td>0.559998</td>\n",
       "      <td>0.543847</td>\n",
       "      <td>0.633920</td>\n",
       "      <td>...</td>\n",
       "      <td>-0.238837</td>\n",
       "      <td>0.545762</td>\n",
       "      <td>0.583129</td>\n",
       "      <td>-0.329799</td>\n",
       "      <td>0.567040</td>\n",
       "      <td>-0.336920</td>\n",
       "      <td>0.529082</td>\n",
       "      <td>0.592693</td>\n",
       "      <td>-0.254591</td>\n",
       "      <td>0.607049</td>\n",
       "    </tr>\n",
       "    <tr>\n",
       "      <th>std</th>\n",
       "      <td>0.256664</td>\n",
       "      <td>0.240921</td>\n",
       "      <td>0.256842</td>\n",
       "      <td>0.225744</td>\n",
       "      <td>0.251979</td>\n",
       "      <td>0.253181</td>\n",
       "      <td>0.208610</td>\n",
       "      <td>0.254594</td>\n",
       "      <td>0.245249</td>\n",
       "      <td>0.282835</td>\n",
       "      <td>...</td>\n",
       "      <td>0.131411</td>\n",
       "      <td>0.248949</td>\n",
       "      <td>0.269992</td>\n",
       "      <td>0.212490</td>\n",
       "      <td>0.262085</td>\n",
       "      <td>0.199685</td>\n",
       "      <td>0.271325</td>\n",
       "      <td>0.283170</td>\n",
       "      <td>0.157045</td>\n",
       "      <td>0.272535</td>\n",
       "    </tr>\n",
       "    <tr>\n",
       "      <th>min</th>\n",
       "      <td>-0.560534</td>\n",
       "      <td>-0.528495</td>\n",
       "      <td>-0.603606</td>\n",
       "      <td>-0.529907</td>\n",
       "      <td>-0.589222</td>\n",
       "      <td>-0.603262</td>\n",
       "      <td>-0.454203</td>\n",
       "      <td>-0.627079</td>\n",
       "      <td>-0.520204</td>\n",
       "      <td>-0.607611</td>\n",
       "      <td>...</td>\n",
       "      <td>-0.365180</td>\n",
       "      <td>-0.573070</td>\n",
       "      <td>-0.583272</td>\n",
       "      <td>-0.560884</td>\n",
       "      <td>-0.563958</td>\n",
       "      <td>-0.492855</td>\n",
       "      <td>-0.634350</td>\n",
       "      <td>-0.644049</td>\n",
       "      <td>-0.390682</td>\n",
       "      <td>-0.630077</td>\n",
       "    </tr>\n",
       "    <tr>\n",
       "      <th>25%</th>\n",
       "      <td>0.574681</td>\n",
       "      <td>0.504684</td>\n",
       "      <td>0.490520</td>\n",
       "      <td>0.535758</td>\n",
       "      <td>0.556207</td>\n",
       "      <td>0.562435</td>\n",
       "      <td>0.405463</td>\n",
       "      <td>0.546069</td>\n",
       "      <td>0.541198</td>\n",
       "      <td>0.620609</td>\n",
       "      <td>...</td>\n",
       "      <td>-0.293321</td>\n",
       "      <td>0.546013</td>\n",
       "      <td>0.550681</td>\n",
       "      <td>-0.441389</td>\n",
       "      <td>0.562874</td>\n",
       "      <td>-0.416813</td>\n",
       "      <td>0.486969</td>\n",
       "      <td>0.566295</td>\n",
       "      <td>-0.322811</td>\n",
       "      <td>0.620636</td>\n",
       "    </tr>\n",
       "    <tr>\n",
       "      <th>50%</th>\n",
       "      <td>0.644750</td>\n",
       "      <td>0.583276</td>\n",
       "      <td>0.581144</td>\n",
       "      <td>0.590960</td>\n",
       "      <td>0.609373</td>\n",
       "      <td>0.635370</td>\n",
       "      <td>0.471776</td>\n",
       "      <td>0.627049</td>\n",
       "      <td>0.611870</td>\n",
       "      <td>0.713521</td>\n",
       "      <td>...</td>\n",
       "      <td>-0.271753</td>\n",
       "      <td>0.605190</td>\n",
       "      <td>0.652887</td>\n",
       "      <td>-0.371478</td>\n",
       "      <td>0.633511</td>\n",
       "      <td>-0.385232</td>\n",
       "      <td>0.579154</td>\n",
       "      <td>0.667400</td>\n",
       "      <td>-0.292367</td>\n",
       "      <td>0.677117</td>\n",
       "    </tr>\n",
       "    <tr>\n",
       "      <th>75%</th>\n",
       "      <td>0.695956</td>\n",
       "      <td>0.639454</td>\n",
       "      <td>0.664639</td>\n",
       "      <td>0.631819</td>\n",
       "      <td>0.650543</td>\n",
       "      <td>0.692152</td>\n",
       "      <td>0.535769</td>\n",
       "      <td>0.687093</td>\n",
       "      <td>0.659959</td>\n",
       "      <td>0.772971</td>\n",
       "      <td>...</td>\n",
       "      <td>-0.246041</td>\n",
       "      <td>0.655525</td>\n",
       "      <td>0.729485</td>\n",
       "      <td>-0.303292</td>\n",
       "      <td>0.687999</td>\n",
       "      <td>-0.351887</td>\n",
       "      <td>0.673142</td>\n",
       "      <td>0.742010</td>\n",
       "      <td>-0.257142</td>\n",
       "      <td>0.722800</td>\n",
       "    </tr>\n",
       "    <tr>\n",
       "      <th>max</th>\n",
       "      <td>0.854063</td>\n",
       "      <td>0.775522</td>\n",
       "      <td>0.886404</td>\n",
       "      <td>0.893947</td>\n",
       "      <td>0.970033</td>\n",
       "      <td>0.876643</td>\n",
       "      <td>0.858121</td>\n",
       "      <td>0.960791</td>\n",
       "      <td>0.789452</td>\n",
       "      <td>0.900455</td>\n",
       "      <td>...</td>\n",
       "      <td>0.774902</td>\n",
       "      <td>0.998809</td>\n",
       "      <td>0.964026</td>\n",
       "      <td>0.996901</td>\n",
       "      <td>0.856796</td>\n",
       "      <td>0.734694</td>\n",
       "      <td>0.895916</td>\n",
       "      <td>0.886999</td>\n",
       "      <td>0.631837</td>\n",
       "      <td>0.987916</td>\n",
       "    </tr>\n",
       "  </tbody>\n",
       "</table>\n",
       "<p>8 rows × 3873 columns</p>\n",
       "</div>"
      ]
     },
     "metadata": {},
     "execution_count": 15
    }
   ],
   "metadata": {}
  },
  {
   "cell_type": "code",
   "execution_count": 11,
   "source": [
    "filtered_corr_rm_diag.iloc[-1,:].describe()"
   ],
   "outputs": [
    {
     "output_type": "execute_result",
     "data": {
      "text/plain": [
       "count    3872.000000\n",
       "mean        0.607049\n",
       "std         0.272535\n",
       "min        -0.630077\n",
       "25%         0.620636\n",
       "50%         0.677117\n",
       "75%         0.722800\n",
       "max         0.987916\n",
       "Name: ENSG00000283620.1, dtype: float64"
      ]
     },
     "metadata": {},
     "execution_count": 11
    }
   ],
   "metadata": {}
  },
  {
   "cell_type": "code",
   "execution_count": 12,
   "source": [
    "##remove all values where abs(correlation) < 0.8, this effectively becomes a graph now\r\n",
    "corr_graph = filtered_corr_rm_diag.copy()\r\n",
    "for col in corr_graph.columns:\r\n",
    "    corr_graph[col].loc[corr_graph[col] < 0.8] = None"
   ],
   "outputs": [],
   "metadata": {}
  },
  {
   "cell_type": "code",
   "execution_count": 13,
   "source": [
    "##persist\r\n",
    "#corr_graph.to_pickle('./corr_graph.pickle')"
   ],
   "outputs": [],
   "metadata": {}
  },
  {
   "cell_type": "code",
   "execution_count": 16,
   "source": [
    "corr_graph = pd.read_pickle('./corr_graph.pickle')\r\n",
    "corr_graph_describe = corr_graph.describe()\r\n",
    "corr_graph.shape"
   ],
   "outputs": [
    {
     "output_type": "execute_result",
     "data": {
      "text/plain": [
       "(3873, 3873)"
      ]
     },
     "metadata": {},
     "execution_count": 16
    }
   ],
   "metadata": {}
  },
  {
   "cell_type": "code",
   "execution_count": 23,
   "source": [
    "##aggresive pruning, reduce every cluster to a single feature\r\n",
    "#The justification is primarily the very small pool of training data\r\n",
    "#which is only 1000. At this step the features are reduced to 840, which almost certainly\r\n",
    "#is still too much dimension to be reasonably predicted from 1k samples.\r\n",
    "\r\n",
    "#The resulting features appears to have lost large portion of informtaion\r\n",
    "#This indicates 1)There are significant information within the inter-correlated clusters\r\n",
    "#               2)Some of the independent features may have little mutual information with age\r\n",
    "\r\n",
    "corr_graph_pruned = corr_graph.copy()\r\n",
    "corr_graph_val_count = corr_graph_pruned.count()\r\n",
    "\r\n",
    "for feat_name in corr_graph_pruned.index:\r\n",
    "    ##if has any link, remove this feature\r\n",
    "    if(corr_graph_val_count.loc[feat_name] >= 1):\r\n",
    "        corr_graph_pruned.drop(index=feat_name, columns=feat_name, inplace=True)\r\n",
    "        corr_graph_val_count = corr_graph_pruned.count()\r\n",
    "\r\n",
    "corr_graph_pruned.shape\r\n"
   ],
   "outputs": [
    {
     "output_type": "execute_result",
     "data": {
      "text/plain": [
       "(840, 840)"
      ]
     },
     "metadata": {},
     "execution_count": 23
    }
   ],
   "metadata": {}
  },
  {
   "cell_type": "code",
   "execution_count": 29,
   "source": [
    "features_to_keep = corr_graph_pruned.index\r\n",
    "X_filtered_840 = X[features_to_keep]\r\n"
   ],
   "outputs": [],
   "metadata": {}
  },
  {
   "cell_type": "code",
   "execution_count": 51,
   "source": [
    "#corr_graph_pruned.to_pickle('./corr_graph_pruned.pickle')\r\n",
    "X_filtered_840.to_pickle('./X_filtered_840_noCluster.pickle')\r\n"
   ],
   "outputs": [],
   "metadata": {}
  },
  {
   "cell_type": "code",
   "execution_count": 47,
   "source": [
    "corr_graph_counts = corr_graph.count()\r\n",
    "#corr_graph_counts[corr_graph_counts == 1]"
   ],
   "outputs": [],
   "metadata": {}
  },
  {
   "cell_type": "code",
   "execution_count": 49,
   "source": [
    "#Conservative prunning, just removing the leaves...this ends up only taking out less than 200 features\r\n",
    "#skip this\r\n",
    "corr_graph_pruned = corr_graph.copy()\r\n",
    "\r\n",
    "for feat_name in corr_graph_counts[corr_graph_counts == 1].index:\r\n",
    "    corr_graph_pruned_counts = corr_graph_pruned.count()\r\n",
    "    \r\n",
    "    if corr_graph_pruned_counts[feat_name] == 0:\r\n",
    "        # pair already removed\r\n",
    "        continue\r\n",
    "    \r\n",
    "    corr_graph_pruned.drop(index=feat_name, columns=feat_name, inplace=True)\r\n",
    "    \r\n",
    "#corr_graph_pruned"
   ],
   "outputs": [],
   "metadata": {}
  },
  {
   "cell_type": "code",
   "execution_count": 52,
   "source": [
    "features_to_keep = corr_graph_pruned.index\r\n",
    "X_filtered_3698_leavesPruned = X[features_to_keep]\r\n",
    "X_filtered_3698_leavesPruned.to_pickle('./X_filtered_3698_leavesPruned.pickle')\r\n"
   ],
   "outputs": [],
   "metadata": {}
  },
  {
   "cell_type": "markdown",
   "source": [
    "## Learning Model Training"
   ],
   "metadata": {}
  },
  {
   "cell_type": "markdown",
   "source": [
    "Ignore the next 2 cells"
   ],
   "metadata": {}
  },
  {
   "cell_type": "code",
   "execution_count": 20,
   "source": [
    "##train: LinearRegression\r\n",
    "# This is an attempt made after reducing features down to 14k\r\n",
    "# Largely a mental milestone & an indicator of works needed ahead\r\n",
    "\r\n",
    "#reg = LinearRegression().fit(X_train, y_train)\r\n",
    "\r\n",
    "print(reg.score(X_train, y_train))\r\n",
    "print(reg.coef_)\r\n",
    "print(reg.intercept_)\r\n"
   ],
   "outputs": [
    {
     "output_type": "stream",
     "name": "stdout",
     "text": [
      "1.0\n",
      "[ 3.43564063e+03  1.87563174e+03 -3.01708875e+03 ... -2.44663385e+00\n",
      " -5.27471495e+01  2.04459063e+02]\n",
      "50.50887375385108\n"
     ]
    }
   ],
   "metadata": {}
  },
  {
   "cell_type": "code",
   "execution_count": 21,
   "source": [
    "##test\r\n",
    "y_pred = reg.predict(X_test)\r\n",
    "r2_score(y_test, y_pred)"
   ],
   "outputs": [
    {
     "output_type": "execute_result",
     "data": {
      "text/plain": [
       "-21.405575387473107"
      ]
     },
     "metadata": {},
     "execution_count": 21
    }
   ],
   "metadata": {}
  },
  {
   "cell_type": "markdown",
   "source": [
    "Neural Network trial/error models"
   ],
   "metadata": {}
  },
  {
   "cell_type": "code",
   "execution_count": 75,
   "source": [
    "X_filtered = pd.read_pickle('./X_filtered4K.pickle')\r\n",
    "print(X_filtered.shape)\r\n",
    "X_train, X_test, y_train, y_test = train_test_split(\r\n",
    "    X_filtered, y, test_size=0.1)\r\n"
   ],
   "outputs": [
    {
     "output_type": "stream",
     "name": "stdout",
     "text": [
      "(965, 3873)\n"
     ]
    }
   ],
   "metadata": {}
  },
  {
   "cell_type": "code",
   "execution_count": 76,
   "source": [
    "##train: Neural Network\r\n",
    "# pyramid architecture\r\n",
    "t_layers = (300, 200, 100)\r\n",
    "regr = MLPRegressor(random_state=1, hidden_layer_sizes=t_layers, max_iter=10000).fit(X_train, y_train)\r\n",
    "regr.score(X_test, y_test)\r\n"
   ],
   "outputs": [
    {
     "output_type": "execute_result",
     "data": {
      "text/plain": [
       "0.07859478461895009"
      ]
     },
     "metadata": {},
     "execution_count": 76
    }
   ],
   "metadata": {}
  },
  {
   "cell_type": "code",
   "execution_count": 77,
   "source": [
    "##train: Neural Network\r\n",
    "# box architecture\r\n",
    "t_layers_box = (100, 100, 100)\r\n",
    "regr_box = MLPRegressor(random_state=1, hidden_layer_sizes=t_layers_box, max_iter=10000).fit(X_train, y_train)\r\n",
    "regr_box.score(X_test, y_test)\r\n"
   ],
   "outputs": [
    {
     "output_type": "execute_result",
     "data": {
      "text/plain": [
       "0.10394559820215887"
      ]
     },
     "metadata": {},
     "execution_count": 77
    }
   ],
   "metadata": {}
  },
  {
   "cell_type": "code",
   "execution_count": null,
   "source": [
    "\r\n"
   ],
   "outputs": [],
   "metadata": {}
  },
  {
   "cell_type": "code",
   "execution_count": 17,
   "source": [
    "scores = []\r\n",
    "scores_box = []\r\n",
    "\r\n",
    "k = 10\r\n",
    "\r\n",
    "for n in range(k):\r\n",
    "    X_filtered = pd.read_pickle('./X_filtered_840_noCluster.pickle')\r\n",
    "    print(X_filtered.shape)\r\n",
    "    X_train, X_test, y_train, y_test = train_test_split(\r\n",
    "    X_filtered, y, test_size=0.1)\r\n",
    "\r\n",
    "    t_layers = (300, 200, 100)\r\n",
    "    regr = MLPRegressor(random_state=1, hidden_layer_sizes=t_layers,\r\n",
    "                        max_iter=8000).fit(X_train, y_train)\r\n",
    "    regr.score(X_test, y_test)\r\n",
    "\r\n",
    "    t_layers_box = (100, 100, 100)\r\n",
    "    regr_box = MLPRegressor(\r\n",
    "        random_state=1, hidden_layer_sizes=t_layers_box, max_iter=8000).fit(X_train, y_train)\r\n",
    "    regr_box.score(X_test, y_test)\r\n",
    "\r\n",
    "    scores.append(regr.score(X_test, y_test))\r\n",
    "    scores_box.append(regr_box.score(X_test, y_test))\r\n"
   ],
   "outputs": [
    {
     "output_type": "stream",
     "name": "stdout",
     "text": [
      "(965, 840)\n",
      "(965, 840)\n",
      "(965, 840)\n",
      "(965, 840)\n",
      "(965, 840)\n",
      "(965, 840)\n",
      "(965, 840)\n",
      "(965, 840)\n",
      "(965, 840)\n",
      "(965, 840)\n"
     ]
    }
   ],
   "metadata": {}
  },
  {
   "cell_type": "code",
   "execution_count": 18,
   "source": [
    "print(sum(scores)/k)\r\n",
    "print(sum(scores_box)/k)\r\n",
    "\r\n",
    "\r\n",
    "#840\r\n"
   ],
   "outputs": [
    {
     "output_type": "stream",
     "name": "stdout",
     "text": [
      "0.029373455259657965\n",
      "-0.003927429998355958\n"
     ]
    }
   ],
   "metadata": {}
  },
  {
   "cell_type": "code",
   "execution_count": 24,
   "source": [
    "def test_script(X_name, k):\r\n",
    "\r\n",
    "    scores = []\r\n",
    "    scores_box = []\r\n",
    "\r\n",
    "    for n in range(k):\r\n",
    "        X_filtered = pd.read_pickle(X_name)\r\n",
    "        print(X_filtered.shape)\r\n",
    "        X_train, X_test, y_train, y_test = train_test_split(\r\n",
    "            X_filtered, y, test_size=0.1)\r\n",
    "\r\n",
    "        t_layers = (300, 200, 100)\r\n",
    "        regr = MLPRegressor(random_state=1, hidden_layer_sizes=t_layers,\r\n",
    "                            max_iter=8000).fit(X_train, y_train)\r\n",
    "        regr.score(X_test, y_test)\r\n",
    "\r\n",
    "        t_layers_box = (100, 100, 100)\r\n",
    "        regr_box = MLPRegressor(\r\n",
    "            random_state=1, hidden_layer_sizes=t_layers_box, max_iter=8000).fit(X_train, y_train)\r\n",
    "        regr_box.score(X_test, y_test)\r\n",
    "\r\n",
    "        scores.append(regr.score(X_test, y_test))\r\n",
    "        scores_box.append(regr_box.score(X_test, y_test))\r\n",
    "\r\n",
    "    print(sum(scores)/k)\r\n",
    "    print(sum(scores_box)/k)\r\n"
   ],
   "outputs": [],
   "metadata": {}
  },
  {
   "cell_type": "code",
   "execution_count": 25,
   "source": [
    "k= 10\r\n",
    "test_script('./X_filtered_3698_leavesPruned.pickle', k)\r\n",
    "test_script('./X_filtered4K.pickle', k)\r\n"
   ],
   "outputs": [
    {
     "output_type": "stream",
     "name": "stdout",
     "text": [
      "(965, 3698)\n",
      "(965, 3698)\n",
      "(965, 3698)\n",
      "(965, 3698)\n",
      "(965, 3698)\n",
      "(965, 3698)\n",
      "(965, 3698)\n",
      "(965, 3698)\n",
      "(965, 3698)\n",
      "(965, 3698)\n",
      "0.0568147287400966\n",
      "0.04773837553993476\n",
      "(965, 3873)\n",
      "(965, 3873)\n",
      "(965, 3873)\n",
      "(965, 3873)\n",
      "(965, 3873)\n",
      "(965, 3873)\n",
      "(965, 3873)\n",
      "(965, 3873)\n",
      "(965, 3873)\n",
      "(965, 3873)\n",
      "0.11445779451967866\n",
      "0.08694184992442332\n"
     ]
    }
   ],
   "metadata": {}
  },
  {
   "cell_type": "code",
   "execution_count": 44,
   "source": [
    "pred = regr.predict(X_test[:100]).round()\r\n",
    "actual = y_test[:100].values * 1.\r\n",
    "data = {'pred': pred, 'actual': actual}\r\n",
    "df_predictions = pd.DataFrame(data=data)\r\n",
    "df_predictions['error'] = abs(df_predictions['actual'] - df_predictions['pred'])\r\n",
    "#pd.set_option(\"display.max_rows\", None)\r\n",
    "\r\n",
    "#print(df_predictions)\r\n",
    "df_predictions.describe()\r\n"
   ],
   "outputs": [
    {
     "output_type": "execute_result",
     "data": {
      "text/plain": [
       "             pred      actual       error\n",
       "count  100.000000  100.000000  100.000000\n",
       "mean    52.780000   56.910000   10.330000\n",
       "std     10.025805   12.500582    7.192947\n",
       "min     25.000000   24.000000    0.000000\n",
       "25%     47.750000   53.500000    4.000000\n",
       "50%     52.000000   54.000000    8.000000\n",
       "75%     59.000000   64.000000   17.000000\n",
       "max     84.000000   90.000000   31.000000"
      ],
      "text/html": [
       "<div>\n",
       "<style scoped>\n",
       "    .dataframe tbody tr th:only-of-type {\n",
       "        vertical-align: middle;\n",
       "    }\n",
       "\n",
       "    .dataframe tbody tr th {\n",
       "        vertical-align: top;\n",
       "    }\n",
       "\n",
       "    .dataframe thead th {\n",
       "        text-align: right;\n",
       "    }\n",
       "</style>\n",
       "<table border=\"1\" class=\"dataframe\">\n",
       "  <thead>\n",
       "    <tr style=\"text-align: right;\">\n",
       "      <th></th>\n",
       "      <th>pred</th>\n",
       "      <th>actual</th>\n",
       "      <th>error</th>\n",
       "    </tr>\n",
       "  </thead>\n",
       "  <tbody>\n",
       "    <tr>\n",
       "      <th>count</th>\n",
       "      <td>100.000000</td>\n",
       "      <td>100.000000</td>\n",
       "      <td>100.000000</td>\n",
       "    </tr>\n",
       "    <tr>\n",
       "      <th>mean</th>\n",
       "      <td>52.780000</td>\n",
       "      <td>56.910000</td>\n",
       "      <td>10.330000</td>\n",
       "    </tr>\n",
       "    <tr>\n",
       "      <th>std</th>\n",
       "      <td>10.025805</td>\n",
       "      <td>12.500582</td>\n",
       "      <td>7.192947</td>\n",
       "    </tr>\n",
       "    <tr>\n",
       "      <th>min</th>\n",
       "      <td>25.000000</td>\n",
       "      <td>24.000000</td>\n",
       "      <td>0.000000</td>\n",
       "    </tr>\n",
       "    <tr>\n",
       "      <th>25%</th>\n",
       "      <td>47.750000</td>\n",
       "      <td>53.500000</td>\n",
       "      <td>4.000000</td>\n",
       "    </tr>\n",
       "    <tr>\n",
       "      <th>50%</th>\n",
       "      <td>52.000000</td>\n",
       "      <td>54.000000</td>\n",
       "      <td>8.000000</td>\n",
       "    </tr>\n",
       "    <tr>\n",
       "      <th>75%</th>\n",
       "      <td>59.000000</td>\n",
       "      <td>64.000000</td>\n",
       "      <td>17.000000</td>\n",
       "    </tr>\n",
       "    <tr>\n",
       "      <th>max</th>\n",
       "      <td>84.000000</td>\n",
       "      <td>90.000000</td>\n",
       "      <td>31.000000</td>\n",
       "    </tr>\n",
       "  </tbody>\n",
       "</table>\n",
       "</div>"
      ]
     },
     "metadata": {},
     "execution_count": 44
    }
   ],
   "metadata": {}
  },
  {
   "cell_type": "code",
   "execution_count": 24,
   "source": [
    "## Keep this cell for reference\r\n",
    "\r\n",
    "##  A more comprehensible representation of the NN's accuracy\r\n",
    "## Overall, better than initial expectation. We can predict a patient's age group with reasonable confidence \r\n",
    "## This is encouraging, as the NN has potential to improve from further reduction, noise suppression, etc.\r\n",
    "df_predictions.describe()"
   ],
   "outputs": [
    {
     "output_type": "execute_result",
     "data": {
      "text/plain": [
       "             pred      actual       error\n",
       "count  100.000000  100.000000  100.000000\n",
       "mean    52.620000   54.720000    9.900000\n",
       "std     11.353618   14.219833    6.849759\n",
       "min     29.000000   24.000000    0.000000\n",
       "25%     45.000000   44.000000    5.750000\n",
       "50%     51.000000   54.000000    9.000000\n",
       "75%     57.000000   64.000000   13.000000\n",
       "max     91.000000   90.000000   44.000000"
      ],
      "text/html": [
       "<div>\n",
       "<style scoped>\n",
       "    .dataframe tbody tr th:only-of-type {\n",
       "        vertical-align: middle;\n",
       "    }\n",
       "\n",
       "    .dataframe tbody tr th {\n",
       "        vertical-align: top;\n",
       "    }\n",
       "\n",
       "    .dataframe thead th {\n",
       "        text-align: right;\n",
       "    }\n",
       "</style>\n",
       "<table border=\"1\" class=\"dataframe\">\n",
       "  <thead>\n",
       "    <tr style=\"text-align: right;\">\n",
       "      <th></th>\n",
       "      <th>pred</th>\n",
       "      <th>actual</th>\n",
       "      <th>error</th>\n",
       "    </tr>\n",
       "  </thead>\n",
       "  <tbody>\n",
       "    <tr>\n",
       "      <th>count</th>\n",
       "      <td>100.000000</td>\n",
       "      <td>100.000000</td>\n",
       "      <td>100.000000</td>\n",
       "    </tr>\n",
       "    <tr>\n",
       "      <th>mean</th>\n",
       "      <td>52.620000</td>\n",
       "      <td>54.720000</td>\n",
       "      <td>9.900000</td>\n",
       "    </tr>\n",
       "    <tr>\n",
       "      <th>std</th>\n",
       "      <td>11.353618</td>\n",
       "      <td>14.219833</td>\n",
       "      <td>6.849759</td>\n",
       "    </tr>\n",
       "    <tr>\n",
       "      <th>min</th>\n",
       "      <td>29.000000</td>\n",
       "      <td>24.000000</td>\n",
       "      <td>0.000000</td>\n",
       "    </tr>\n",
       "    <tr>\n",
       "      <th>25%</th>\n",
       "      <td>45.000000</td>\n",
       "      <td>44.000000</td>\n",
       "      <td>5.750000</td>\n",
       "    </tr>\n",
       "    <tr>\n",
       "      <th>50%</th>\n",
       "      <td>51.000000</td>\n",
       "      <td>54.000000</td>\n",
       "      <td>9.000000</td>\n",
       "    </tr>\n",
       "    <tr>\n",
       "      <th>75%</th>\n",
       "      <td>57.000000</td>\n",
       "      <td>64.000000</td>\n",
       "      <td>13.000000</td>\n",
       "    </tr>\n",
       "    <tr>\n",
       "      <th>max</th>\n",
       "      <td>91.000000</td>\n",
       "      <td>90.000000</td>\n",
       "      <td>44.000000</td>\n",
       "    </tr>\n",
       "  </tbody>\n",
       "</table>\n",
       "</div>"
      ]
     },
     "metadata": {},
     "execution_count": 24
    }
   ],
   "metadata": {}
  },
  {
   "cell_type": "code",
   "execution_count": 26,
   "source": [
    "## generate prediction csv\r\n",
    "pd.set_option(\"display.max_rows\", 10)\r\n",
    "\r\n",
    "X_test_submission = df_norm_expression_test[X_filtered.columns]\r\n",
    "age = regr.predict(X_test_submission)\r\n",
    "sample_id = df_labels_test['sample_id']\r\n",
    "data = {'age': age, 'sample_id': sample_id}\r\n",
    "df_submission = pd.DataFrame(data=data)\r\n",
    "print(df_submission)\r\n",
    "df_submission.to_csv('./prediction/prediction.csv')"
   ],
   "outputs": [
    {
     "output_type": "stream",
     "name": "stdout",
     "text": [
      "           age sample_id\n",
      "0    39.051694  12fa2c69\n",
      "1    43.242780  4d41ce5f\n",
      "2    49.714699  82f6b2bb\n",
      "3    59.572582  81161a04\n",
      "4    49.942939  4370df33\n",
      "..         ...       ...\n",
      "960  44.467553  f71936c8\n",
      "961  50.924034  063448fa\n",
      "962  40.022617  3dd9a2df\n",
      "963  42.715296  70120a3f\n",
      "964  50.423730  b9df2325\n",
      "\n",
      "[965 rows x 2 columns]\n"
     ]
    }
   ],
   "metadata": {}
  },
  {
   "cell_type": "markdown",
   "source": [
    "## Scratch notes"
   ],
   "metadata": {}
  }
 ],
 "metadata": {
  "interpreter": {
   "hash": "26b45437384ff9e10a00d622aa8a939a6724a66e59132a78bea957a3612f3487"
  },
  "kernelspec": {
   "name": "python3",
   "display_name": "Python 3.9.6 64-bit"
  },
  "language_info": {
   "codemirror_mode": {
    "name": "ipython",
    "version": 3
   },
   "file_extension": ".py",
   "mimetype": "text/x-python",
   "name": "python",
   "nbconvert_exporter": "python",
   "pygments_lexer": "ipython3",
   "version": "3.9.6"
  }
 },
 "nbformat": 4,
 "nbformat_minor": 1
}